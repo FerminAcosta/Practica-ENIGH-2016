{
 "cells": [
  {
   "attachments": {},
   "cell_type": "markdown",
   "metadata": {},
   "source": [
    "Proyecto\n",
    "\n",
    "La Encuesta Nacional de Ingresos y Gastos (ENIGH) 2016 es un ejercicio estadístico para conocer el comportamiento de ingresos y gastos, así como características ocupacionales, sociodemográficas, infraestructura y equipamiento   de los hogares de la república mexicana.\n",
    "\n",
    "La encuesta reporta su información de manera trimestral y por Hogar. \n",
    "\n",
    "Las siguientes tablas se obtuvieron del rubro ingresos **individuales** por hogar. Es decir, un hogar puede estar constituido con más de un individuo, y es por esto que representa diferente información que los concentrados por Hogar.\n",
    "\n",
    "En las tablas siguientes se muestran los primeros deciles de los ingresos individuales reportados. Complete los espacios con * usando R.\n",
    "\n",
    "  \n",
    "|0%    |\t10%|\t20%|\t30%|\t40% |\t50% | 60% |\t70% |  80%  | 90%  | 100% |\n",
    "|:---: |:---:  |:---:  |:---:  |:---:  |:---:  |:---: |:---:| :---: |:---: |:---- |\n",
    "|0.00  |293.47 |586.95 |983.6  |1467.39|2152.17|   *  |  *  |  *    |  *   | *    |\n",
    "                 \n",
    "                                       Tabla 1. Deciles de ingresos individuales\n",
    "\n",
    "\n",
    "|  91% |  92%  |  93%  |  94%  |  95%  |  96%  |  97% | 98% |  99%  | 100% |\n",
    "|:---: |:---:  |:---:  |:---:  |:---:  |:---:  |:---: |:---:| :---: |:---: |\n",
    "|  *  |   *   |   *   |   *   |  *    |    *  |   *  |  *  |   *   | *    |\n",
    "\n",
    "\n",
    "                               Tabla 2. Percentiles más altos de los ingresos individuales\n",
    "\n",
    "| Decil| Clase |Media de la clase| frecuencia | Ingresos por decil |\n",
    "|:---: |:---:  |   :---:         |    :---:   |        :---:       |\n",
    "|I\t  |0 - 293.47 | 159.5315 | 34427 | 5492192 |\n",
    "|II\t  |293.47 - 586.95 |\t437.642\t|34524|\t15109153 |\n",
    "|III  |596.95 - 983.6\t|  794.7336\t| 33052 |\t26267535 |\n",
    "|IV\t  | 983.6 - 1467.39 |\t1281.723\t|31833 |\t40801089|\n",
    "|V |\t1467.39 - 2152.17\t|1740.943\t|33458 |\t58248455 |\n",
    "|VI\t|2152.17 - 3717.39\t|*\t|*\t|* |\n",
    "|VII|\t3717.39 - 7043.47 |\t* |\t* | * |\n",
    "|VIII|\t7043.47 - 11739.13 |\t* | * | * |\n",
    "|IX\t|11739.13 - 19024.62 |* | * | * |\n",
    "|X\t|19024.62 - 34667119.55 | * | * | * |\n",
    "\n",
    "Tabla 3. Rango para los deciles de ingresos individuales.\n",
    "\n",
    "Conteste y elabore las siguientes preguntas en documento en Word. \n",
    "\n",
    "1.\tUsando la tabla 1 grafique ingresos individuales vs.  deciles   (y vs. x)\n",
    "2.\tUsando la tabla 2 grafique ingresos individuales vs.  percentiles   (y vs. x)\n",
    "3.\t¿Cuál es la mediana de ingresos individuales? (Tabla 1)\n",
    "4.\tUsando la tabla 3 calcule la media de ingresos individuales.\n",
    "5.\t¿Son la media y la mediana valores parecidos o iguales? ¿Cuál estadístico te parece más representativo para los datos? \n",
    "6.\tCalcular el ingreso individual  porcentual para cada decil en la tabla 3.\n",
    "7.\t¿Qué porcentaje con respecto al total de ingresos por decil representan los individuos con mayores ingresos (considere deciles VIII, IX y X)? \n",
    "8.\t¿Qué porcentaje con respecto al total de ingresos por decil representan los individuos con menores ingresos (considere deciles I, II y III)?\n",
    "9.\t¿Cuántas veces es más alto el nivel de ingresos el décimo decil  con respecto al primer decil?\n",
    "\n",
    "Compare su información con el reporte dado con INEGI (archivo enigh_08).\n",
    "\n",
    "10.\tHaga una breve conclusión sobre las estadísticas en general que se incluyen en el reporte. Puede guiar su conclusión respondiendo a las preguntas: ¿Cuál es el ingreso en México?  ¿En su opinión, qué implican los datos observados?\n"
   ]
  },
  {
   "cell_type": "code",
   "execution_count": 10,
   "metadata": {},
   "outputs": [
    {
     "data": {
      "text/plain": [
       "    folioviv            foliohog         numren           clave       \n",
       " Min.   :1.000e+08   Min.   :1.000   Min.   : 1.000   P001   : 82659  \n",
       " 1st Qu.:7.618e+08   1st Qu.:1.000   1st Qu.: 1.000   P009   : 37956  \n",
       " Median :1.602e+09   Median :1.000   Median : 2.000   P042   : 30843  \n",
       " Mean   :1.603e+09   Mean   :1.014   Mean   : 2.098   P040   : 18990  \n",
       " 3rd Qu.:2.460e+09   3rd Qu.:1.000   3rd Qu.: 3.000   P022   : 17289  \n",
       " Max.   :3.261e+09   Max.   :5.000   Max.   :21.000   P008   : 13120  \n",
       "                                                      (Other):133480  \n",
       "     mes_1           mes_2           mes_3           mes_4      \n",
       " Min.   : 7.00   Min.   :6.00    Min.   :5.00    Min.   :4.00   \n",
       " 1st Qu.: 8.00   1st Qu.:7.00    1st Qu.:6.00    1st Qu.:5.00   \n",
       " Median : 9.00   Median :8.00    Median :7.00    Median :6.00   \n",
       " Mean   : 8.74   Mean   :7.74    Mean   :6.74    Mean   :5.74   \n",
       " 3rd Qu.:10.00   3rd Qu.:9.00    3rd Qu.:8.00    3rd Qu.:7.00   \n",
       " Max.   :10.00   Max.   :9.00    Max.   :8.00    Max.   :7.00   \n",
       " NA's   :51731   NA's   :51731   NA's   :51731   NA's   :51731  \n",
       "     mes_5           mes_6           ing_1              ing_2         \n",
       " Min.   :3.00    Min.   :2.00    Min.   :       0   Min.   :       0  \n",
       " 1st Qu.:4.00    1st Qu.:3.00    1st Qu.:     300   1st Qu.:       0  \n",
       " Median :5.00    Median :4.00    Median :    1500   Median :    1000  \n",
       " Mean   :4.74    Mean   :3.74    Mean   :    3710   Mean   :    3053  \n",
       " 3rd Qu.:6.00    3rd Qu.:5.00    3rd Qu.:    4400   3rd Qu.:    4000  \n",
       " Max.   :6.00    Max.   :5.00    Max.   :11812500   Max.   :11812500  \n",
       " NA's   :51731   NA's   :51731                      NA's   :51731     \n",
       "     ing_3              ing_4              ing_5              ing_6         \n",
       " Min.   :       0   Min.   :       0   Min.   :       0   Min.   :       0  \n",
       " 1st Qu.:       0   1st Qu.:       0   1st Qu.:       0   1st Qu.:       0  \n",
       " Median :    1000   Median :     900   Median :     950   Median :     800  \n",
       " Mean   :    3027   Mean   :    2922   Mean   :    2908   Mean   :    2895  \n",
       " 3rd Qu.:    4000   3rd Qu.:    3915   3rd Qu.:    3800   3rd Qu.:    3720  \n",
       " Max.   :11812500   Max.   :11812500   Max.   :11812500   Max.   :11812500  \n",
       " NA's   :51731      NA's   :51731      NA's   :51731      NA's   :51731     \n",
       "    ing_tri        \n",
       " Min.   :       0  \n",
       " 1st Qu.:     738  \n",
       " Median :    2152  \n",
       " Mean   :    7738  \n",
       " 3rd Qu.:    8950  \n",
       " Max.   :34667120  \n",
       "                   "
      ]
     },
     "metadata": {},
     "output_type": "display_data"
    },
    {
     "name": "stderr",
     "output_type": "stream",
     "text": [
      "The following objects are masked from datos (pos = 3):\n",
      "\n",
      "    clave, foliohog, folioviv, ing_1, ing_2, ing_3, ing_4, ing_5,\n",
      "    ing_6, ing_tri, mes_1, mes_2, mes_3, mes_4, mes_5, mes_6, numren\n",
      "\n",
      "The following objects are masked from datos (pos = 4):\n",
      "\n",
      "    clave, foliohog, folioviv, ing_1, ing_2, ing_3, ing_4, ing_5,\n",
      "    ing_6, ing_tri, mes_1, mes_2, mes_3, mes_4, mes_5, mes_6, numren\n",
      "\n",
      "The following objects are masked from datos (pos = 5):\n",
      "\n",
      "    clave, foliohog, folioviv, ing_1, ing_2, ing_3, ing_4, ing_5,\n",
      "    ing_6, ing_tri, mes_1, mes_2, mes_3, mes_4, mes_5, mes_6, numren\n",
      "\n",
      "The following objects are masked from datos (pos = 6):\n",
      "\n",
      "    clave, foliohog, folioviv, ing_1, ing_2, ing_3, ing_4, ing_5,\n",
      "    ing_6, ing_tri, mes_1, mes_2, mes_3, mes_4, mes_5, mes_6, numren\n",
      "\n"
     ]
    },
    {
     "data": {
      "text/html": [
       "<ol class=list-inline>\n",
       "\t<li>'folioviv'</li>\n",
       "\t<li>'foliohog'</li>\n",
       "\t<li>'numren'</li>\n",
       "\t<li>'clave'</li>\n",
       "\t<li>'mes_1'</li>\n",
       "\t<li>'mes_2'</li>\n",
       "\t<li>'mes_3'</li>\n",
       "\t<li>'mes_4'</li>\n",
       "\t<li>'mes_5'</li>\n",
       "\t<li>'mes_6'</li>\n",
       "\t<li>'ing_1'</li>\n",
       "\t<li>'ing_2'</li>\n",
       "\t<li>'ing_3'</li>\n",
       "\t<li>'ing_4'</li>\n",
       "\t<li>'ing_5'</li>\n",
       "\t<li>'ing_6'</li>\n",
       "\t<li>'ing_tri'</li>\n",
       "</ol>\n"
      ],
      "text/latex": [
       "\\begin{enumerate*}\n",
       "\\item 'folioviv'\n",
       "\\item 'foliohog'\n",
       "\\item 'numren'\n",
       "\\item 'clave'\n",
       "\\item 'mes\\_1'\n",
       "\\item 'mes\\_2'\n",
       "\\item 'mes\\_3'\n",
       "\\item 'mes\\_4'\n",
       "\\item 'mes\\_5'\n",
       "\\item 'mes\\_6'\n",
       "\\item 'ing\\_1'\n",
       "\\item 'ing\\_2'\n",
       "\\item 'ing\\_3'\n",
       "\\item 'ing\\_4'\n",
       "\\item 'ing\\_5'\n",
       "\\item 'ing\\_6'\n",
       "\\item 'ing\\_tri'\n",
       "\\end{enumerate*}\n"
      ],
      "text/markdown": [
       "1. 'folioviv'\n",
       "2. 'foliohog'\n",
       "3. 'numren'\n",
       "4. 'clave'\n",
       "5. 'mes_1'\n",
       "6. 'mes_2'\n",
       "7. 'mes_3'\n",
       "8. 'mes_4'\n",
       "9. 'mes_5'\n",
       "10. 'mes_6'\n",
       "11. 'ing_1'\n",
       "12. 'ing_2'\n",
       "13. 'ing_3'\n",
       "14. 'ing_4'\n",
       "15. 'ing_5'\n",
       "16. 'ing_6'\n",
       "17. 'ing_tri'\n",
       "\n",
       "\n"
      ],
      "text/plain": [
       " [1] \"folioviv\" \"foliohog\" \"numren\"   \"clave\"    \"mes_1\"    \"mes_2\"   \n",
       " [7] \"mes_3\"    \"mes_4\"    \"mes_5\"    \"mes_6\"    \"ing_1\"    \"ing_2\"   \n",
       "[13] \"ing_3\"    \"ing_4\"    \"ing_5\"    \"ing_6\"    \"ing_tri\" "
      ]
     },
     "metadata": {},
     "output_type": "display_data"
    },
    {
     "data": {
      "text/html": [
       "'numeric'"
      ],
      "text/latex": [
       "'numeric'"
      ],
      "text/markdown": [
       "'numeric'"
      ],
      "text/plain": [
       "[1] \"numeric\""
      ]
     },
     "metadata": {},
     "output_type": "display_data"
    },
    {
     "data": {
      "text/plain": [
       "    Min.  1st Qu.   Median     Mean  3rd Qu.     Max. \n",
       "       0      738     2152     7738     8950 34667120 "
      ]
     },
     "metadata": {},
     "output_type": "display_data"
    },
    {
     "data": {
      "text/html": [
       "<dl class=dl-horizontal>\n",
       "\t<dt>0%</dt>\n",
       "\t\t<dd>0</dd>\n",
       "\t<dt>10%</dt>\n",
       "\t\t<dd>293.47</dd>\n",
       "\t<dt>20%</dt>\n",
       "\t\t<dd>586.95</dd>\n",
       "\t<dt>30%</dt>\n",
       "\t\t<dd>983.6</dd>\n",
       "\t<dt>40%</dt>\n",
       "\t\t<dd>1467.39</dd>\n",
       "\t<dt>50%</dt>\n",
       "\t\t<dd>2152.17</dd>\n",
       "</dl>\n"
      ],
      "text/latex": [
       "\\begin{description*}\n",
       "\\item[0\\textbackslash{}\\%] 0\n",
       "\\item[10\\textbackslash{}\\%] 293.47\n",
       "\\item[20\\textbackslash{}\\%] 586.95\n",
       "\\item[30\\textbackslash{}\\%] 983.6\n",
       "\\item[40\\textbackslash{}\\%] 1467.39\n",
       "\\item[50\\textbackslash{}\\%] 2152.17\n",
       "\\end{description*}\n"
      ],
      "text/markdown": [
       "0%\n",
       ":   010%\n",
       ":   293.4720%\n",
       ":   586.9530%\n",
       ":   983.640%\n",
       ":   1467.3950%\n",
       ":   2152.17\n",
       "\n"
      ],
      "text/plain": [
       "     0%     10%     20%     30%     40%     50% \n",
       "   0.00  293.47  586.95  983.60 1467.39 2152.17 "
      ]
     },
     "metadata": {},
     "output_type": "display_data"
    },
    {
     "data": {
      "text/html": [
       "5492192.28"
      ],
      "text/latex": [
       "5492192.28"
      ],
      "text/markdown": [
       "5492192.28"
      ],
      "text/plain": [
       "[1] 5492192"
      ]
     },
     "metadata": {},
     "output_type": "display_data"
    },
    {
     "data": {
      "text/html": [
       "159.531538617945"
      ],
      "text/latex": [
       "159.531538617945"
      ],
      "text/markdown": [
       "159.531538617945"
      ],
      "text/plain": [
       "[1] 159.5315"
      ]
     },
     "metadata": {},
     "output_type": "display_data"
    },
    {
     "data": {
      "text/html": [
       "34427"
      ],
      "text/latex": [
       "34427"
      ],
      "text/markdown": [
       "34427"
      ],
      "text/plain": [
       "[1] 34427"
      ]
     },
     "metadata": {},
     "output_type": "display_data"
    },
    {
     "data": {
      "text/html": [
       "0"
      ],
      "text/latex": [
       "0"
      ],
      "text/markdown": [
       "0"
      ],
      "text/plain": [
       "[1] 0"
      ]
     },
     "metadata": {},
     "output_type": "display_data"
    },
    {
     "data": {
      "text/html": [
       "437.642017437145"
      ],
      "text/latex": [
       "437.642017437145"
      ],
      "text/markdown": [
       "437.642017437145"
      ],
      "text/plain": [
       "[1] 437.642"
      ]
     },
     "metadata": {},
     "output_type": "display_data"
    },
    {
     "data": {
      "text/html": [
       "34524"
      ],
      "text/latex": [
       "34524"
      ],
      "text/markdown": [
       "34524"
      ],
      "text/plain": [
       "[1] 34524"
      ]
     },
     "metadata": {},
     "output_type": "display_data"
    },
    {
     "data": {
      "text/html": [
       "0"
      ],
      "text/latex": [
       "0"
      ],
      "text/markdown": [
       "0"
      ],
      "text/plain": [
       "[1] 0"
      ]
     },
     "metadata": {},
     "output_type": "display_data"
    },
    {
     "data": {
      "text/html": [
       "794.733588285126"
      ],
      "text/latex": [
       "794.733588285126"
      ],
      "text/markdown": [
       "794.733588285126"
      ],
      "text/plain": [
       "[1] 794.7336"
      ]
     },
     "metadata": {},
     "output_type": "display_data"
    },
    {
     "data": {
      "text/html": [
       "33052"
      ],
      "text/latex": [
       "33052"
      ],
      "text/markdown": [
       "33052"
      ],
      "text/plain": [
       "[1] 33052"
      ]
     },
     "metadata": {},
     "output_type": "display_data"
    },
    {
     "data": {
      "text/html": [
       "0"
      ],
      "text/latex": [
       "0"
      ],
      "text/markdown": [
       "0"
      ],
      "text/plain": [
       "[1] 0"
      ]
     },
     "metadata": {},
     "output_type": "display_data"
    },
    {
     "data": {
      "text/html": [
       "1281.72301322527"
      ],
      "text/latex": [
       "1281.72301322527"
      ],
      "text/markdown": [
       "1281.72301322527"
      ],
      "text/plain": [
       "[1] 1281.723"
      ]
     },
     "metadata": {},
     "output_type": "display_data"
    },
    {
     "data": {
      "text/html": [
       "31833"
      ],
      "text/latex": [
       "31833"
      ],
      "text/markdown": [
       "31833"
      ],
      "text/plain": [
       "[1] 31833"
      ]
     },
     "metadata": {},
     "output_type": "display_data"
    },
    {
     "data": {
      "text/html": [
       "0"
      ],
      "text/latex": [
       "0"
      ],
      "text/markdown": [
       "0"
      ],
      "text/plain": [
       "[1] 0"
      ]
     },
     "metadata": {},
     "output_type": "display_data"
    },
    {
     "data": {
      "text/html": [
       "1740.94252943989"
      ],
      "text/latex": [
       "1740.94252943989"
      ],
      "text/markdown": [
       "1740.94252943989"
      ],
      "text/plain": [
       "[1] 1740.943"
      ]
     },
     "metadata": {},
     "output_type": "display_data"
    },
    {
     "data": {
      "text/html": [
       "33458"
      ],
      "text/latex": [
       "33458"
      ],
      "text/markdown": [
       "33458"
      ],
      "text/plain": [
       "[1] 33458"
      ]
     },
     "metadata": {},
     "output_type": "display_data"
    },
    {
     "data": {
      "text/html": [
       "0"
      ],
      "text/latex": [
       "0"
      ],
      "text/markdown": [
       "0"
      ],
      "text/plain": [
       "[1] 0"
      ]
     },
     "metadata": {},
     "output_type": "display_data"
    },
    {
     "data": {
      "text/html": [
       "7203.6"
      ],
      "text/latex": [
       "7203.6"
      ],
      "text/markdown": [
       "7203.6"
      ],
      "text/plain": [
       "[1] 7203.6"
      ]
     },
     "metadata": {},
     "output_type": "display_data"
    },
    {
     "data": {
      "text/html": [
       "118128.325041742"
      ],
      "text/latex": [
       "118128.325041742"
      ],
      "text/markdown": [
       "118128.325041742"
      ],
      "text/plain": [
       "[1] 118128.3"
      ]
     },
     "metadata": {},
     "output_type": "display_data"
    },
    {
     "data": {
      "text/html": [
       "159.531538617945"
      ],
      "text/latex": [
       "159.531538617945"
      ],
      "text/markdown": [
       "159.531538617945"
      ],
      "text/plain": [
       "[1] 159.5315"
      ]
     },
     "metadata": {},
     "output_type": "display_data"
    },
    {
     "data": {
      "text/html": [
       "437.642017437145"
      ],
      "text/latex": [
       "437.642017437145"
      ],
      "text/markdown": [
       "437.642017437145"
      ],
      "text/plain": [
       "[1] 437.642"
      ]
     },
     "metadata": {},
     "output_type": "display_data"
    },
    {
     "data": {
      "text/html": [
       "794.733588285126"
      ],
      "text/latex": [
       "794.733588285126"
      ],
      "text/markdown": [
       "794.733588285126"
      ],
      "text/plain": [
       "[1] 794.7336"
      ]
     },
     "metadata": {},
     "output_type": "display_data"
    },
    {
     "data": {
      "text/html": [
       "1281.72301322527"
      ],
      "text/latex": [
       "1281.72301322527"
      ],
      "text/markdown": [
       "1281.72301322527"
      ],
      "text/plain": [
       "[1] 1281.723"
      ]
     },
     "metadata": {},
     "output_type": "display_data"
    },
    {
     "data": {
      "text/html": [
       "1740.94252943989"
      ],
      "text/latex": [
       "1740.94252943989"
      ],
      "text/markdown": [
       "1740.94252943989"
      ],
      "text/plain": [
       "[1] 1740.943"
      ]
     },
     "metadata": {},
     "output_type": "display_data"
    },
    {
     "data": {
      "text/html": [
       "5492192.28"
      ],
      "text/latex": [
       "5492192.28"
      ],
      "text/markdown": [
       "5492192.28"
      ],
      "text/plain": [
       "[1] 5492192"
      ]
     },
     "metadata": {},
     "output_type": "display_data"
    },
    {
     "data": {
      "text/html": [
       "15109153.01"
      ],
      "text/latex": [
       "15109153.01"
      ],
      "text/markdown": [
       "15109153.01"
      ],
      "text/plain": [
       "[1] 15109153"
      ]
     },
     "metadata": {},
     "output_type": "display_data"
    },
    {
     "data": {
      "text/html": [
       "26267534.56"
      ],
      "text/latex": [
       "26267534.56"
      ],
      "text/markdown": [
       "26267534.56"
      ],
      "text/plain": [
       "[1] 26267535"
      ]
     },
     "metadata": {},
     "output_type": "display_data"
    },
    {
     "data": {
      "text/html": [
       "40801088.68"
      ],
      "text/latex": [
       "40801088.68"
      ],
      "text/markdown": [
       "40801088.68"
      ],
      "text/plain": [
       "[1] 40801089"
      ]
     },
     "metadata": {},
     "output_type": "display_data"
    },
    {
     "data": {
      "text/html": [
       "58248455.15"
      ],
      "text/latex": [
       "58248455.15"
      ],
      "text/markdown": [
       "58248455.15"
      ],
      "text/plain": [
       "[1] 58248455"
      ]
     },
     "metadata": {},
     "output_type": "display_data"
    },
    {
     "data": {
      "image/png": "[encoded data removed]",
      "text/plain": [
       "plot without title"
      ]
     },
     "metadata": {},
     "output_type": "display_data"
    }
   ],
   "source": [
    "datos<-read.csv(\"ingresos.csv\")\n",
    "summary(datos)\n",
    "attach(datos)\n",
    "names(datos)\n",
    "class(ing_tri)\n",
    "\n",
    "summary(ing_tri)\n",
    "boxplot(ing_tri)\n",
    "\n",
    "quantile(datos$ing_tri,c(0,.1,.2,.3,.4,.5) , type = 5)\n",
    "\n",
    "\n",
    "decil1<-subset(datos, datos$ing_tri<=293.47)\n",
    "sum(decil1$ing_tri)\n",
    "mean(decil1$ing_tri)\n",
    "length(decil1$ing_tri)\n",
    "sum(is.na(decil1$ing_tri))\n",
    "\n",
    "decil2<-subset(datos, 293.47<datos$ing_tri & datos$ing_tri<=586.95)\n",
    "mean(decil2$ing_tri)\n",
    "length(decil2$ing_tri)\n",
    "sum(is.na(decil2$ing_tri))\n",
    "\n",
    "decil3<-subset(datos, 586.95<datos$ing_tri & datos$ing_tri<=983.6)\n",
    "mean(decil3$ing_tri)\n",
    "length(decil3$ing_tri)\n",
    "sum(is.na(decil3$ing_tri))\n",
    "\n",
    "decil4<-subset(datos, 983.6<datos$ing_tri & datos$ing_tri<=1467.39)\n",
    "mean(decil4$ing_tri)\n",
    "length(decil4$ing_tri)\n",
    "sum(is.na(decil4$ing_tri))\n",
    "\n",
    "decil5<-subset(datos, 1467.39<datos$ing_tri & datos$ing_tri<=2152.17)\n",
    "mean(decil5$ing_tri)\n",
    "length(decil5$ing_tri)\n",
    "sum(is.na(decil5$ing_tri))\n",
    "\n",
    "\n",
    "\n",
    "#salario minimo 2017\n",
    "salmin<-80.04\n",
    "\n",
    "# tres meses de salario minimo\n",
    "salmin*90\n",
    "\n",
    "#factor entre percentil 100 y percentil 10\n",
    "34667119.55/293.47\n",
    "\n",
    "\n",
    "mean(decil1$ing_tri)\n",
    "mean(decil2$ing_tri)\n",
    "mean(decil3$ing_tri)\n",
    "mean(decil4$ing_tri)\n",
    "mean(decil5$ing_tri)\n",
    "\n",
    "\n",
    "sum(decil1$ing_tri)\n",
    "sum(decil2$ing_tri)\n",
    "sum(decil3$ing_tri)\n",
    "sum(decil4$ing_tri)\n",
    "sum(decil5$ing_tri)\n",
    "\n",
    "\n",
    "#d1<-1:N\n",
    "#for (i in 1:N){d1[i]=sample(1:6, 1)}\n",
    "#d2<-1:N\n",
    "#for (i in 1:N){d2[i]=sample(1:6, 1)}\n",
    "\n"
   ]
  },
  {
   "cell_type": "code",
   "execution_count": null,
   "metadata": {},
   "outputs": [],
   "source": []
  }
 ],
 "metadata": {
  "kernelspec": {
   "display_name": "R",
   "language": "R",
   "name": "ir"
  },
  "language_info": {
   "codemirror_mode": "r",
   "file_extension": ".r",
   "mimetype": "text/x-r-source",
   "name": "R",
   "pygments_lexer": "r",
   "version": "3.5.1"
  }
 },
 "nbformat": 4,
 "nbformat_minor": 2
}
