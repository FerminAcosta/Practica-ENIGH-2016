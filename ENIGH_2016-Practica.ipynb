{
 "cells": [
  {
   "cell_type": "markdown",
   "metadata": {},
   "source": [
    "Proyecto\n",
    "\n",
    "La Encuesta Nacional de Ingresos y Gastos (ENIGH) 2016 es un ejercicio estadístico para conocer el comportamiento de ingresos y gastos, así como características ocupacionales, sociodemográficas, infraestructura y equipamiento   de los hogares de la república mexicana.\n",
    "\n",
    "La encuesta reporta su información de manera trimestral y por Hogar. \n",
    "\n",
    "Las siguientes tablas se obtuvieron del rubro ingresos **individuales** por hogar. Es decir, un hogar puede estar constituido con más de un individuo, y es por esto que representa diferente información que los concentrados por Hogar.\n",
    "\n",
    "En las tablas siguientes se muestran los primeros deciles de los ingresos individuales reportados. Complete los espacios con * usando R.\n",
    "\n",
    "  \n",
    "|0%    |\t10%|\t20%|\t30%|\t40% |\t50% | 60% |\t70% |  80%  | 90%  | 100% |\n",
    "|:---: |:---:  |:---:  |:---:  |:---:  |:---:  |:---: |:---:| :---: |:---: |:---- |\n",
    "|0.00  |293.47 |586.95 |983.6  |1467.39|2152.17|   *  |  *  |  *    |  *   | *    |\n",
    "                 \n",
    "                                       Tabla 1. Deciles de ingresos individuales\n",
    "\n",
    "\n",
    "|  91% |  92%  |  93%  |  94%  |  95%  |  96%  |  97% | 98% |  99%  | 100% |\n",
    "|:---: |:---:  |:---:  |:---:  |:---:  |:---:  |:---: |:---:| :---: |:---: |\n",
    "|  *  |   *   |   *   |   *   |  *    |    *  |   *  |  *  |   *   | *    |\n",
    "\n",
    "\n",
    "                               Tabla 2. Percentiles más altos de los ingresos individuales\n",
    "\n",
    "| Decil| Clase |Media de la clase| frecuencia | Ingresos por decil |\n",
    "|:---: |:---:  |   :---:         |    :---:   |        :---:       |\n",
    "|I\t  |0 - 293.47 | 159.5315 | 34427 | 5492192 |\n",
    "|II\t  |293.47 - 586.95 |\t437.642\t|34524|\t15109153 |\n",
    "|III  |596.95 - 983.6\t|  794.7336\t| 33052 |\t26267535 |\n",
    "|IV\t  | 983.6 - 1467.39 |\t1281.723\t|31833 |\t40801089|\n",
    "|V |\t1467.39 - 2152.17\t|1740.943\t|33458 |\t58248455 |\n",
    "|VI\t|2152.17 - 3717.39\t|*\t|*\t|* |\n",
    "|VII|\t3717.39 - 7043.47 |\t* |\t* | * |\n",
    "|VIII|\t7043.47 - 11739.13 |\t* | * | * |\n",
    "|IX\t|11739.13 - 19024.62 |* | * | * |\n",
    "|X\t|19024.62 - 34667119.55 | * | * | * |\n",
    "\n",
    "Tabla 3. Rango para los deciles de ingresos individuales.\n",
    "\n",
    "Conteste y elabore las siguientes preguntas en documento en Word. \n",
    "\n",
    "1.\tUsando la tabla 1 grafique ingresos individuales vs.  deciles   (y vs. x)\n",
    "2.\tUsando la tabla 2 grafique ingresos individuales vs.  percentiles   (y vs. x)\n",
    "3.\t¿Cuál es la mediana de ingresos individuales? (Tabla 1)\n",
    "4.\tUsando la tabla 3 calcule la media de ingresos individuales.\n",
    "5.\t¿Son la media y la mediana valores parecidos o iguales? ¿Cuál estadístico te parece más representativo para los datos? \n",
    "6.\tCalcular el ingreso individual  porcentual para cada decil en la tabla 3.\n",
    "7.\t¿Qué porcentaje con respecto al total de ingresos por decil representan los individuos con mayores ingresos (considere deciles VIII, IX y X)? \n",
    "8.\t¿Qué porcentaje con respecto al total de ingresos por decil representan los individuos con menores ingresos (considere deciles I, II y III)?\n",
    "9.\t¿Cuántas veces es más alto el nivel de ingresos el décimo decil  con respecto al primer decil?\n",
    "\n",
    "Compare su información con el reporte dado con INEGI (archivo enigh_08).\n",
    "\n",
    "10.\tHaga una breve conclusión sobre las estadísticas en general que se incluyen en el reporte. Puede guiar su conclusión respondiendo a las preguntas: ¿Cuál es el ingreso en México?  ¿En su opinión, qué implican los datos observados?\n"
   ]
  },
  {
   "cell_type": "markdown",
   "metadata": {},
   "source": [
    "## Datos que generan la práctica: \n",
    "\n",
    "En un primer momento tomamos los datos de ingresos de la ENIGH 2016. Los datos se pueden descargar por Hogar o de manera individual. El reporte que hace INEGI está documentado en el archivo  **enigh_08.pdf** haciendo el análisis por hogar. Se presentan 17 diferentes variables. \n",
    "\n",
    "En nuestro caso el archivo **ingresos.csv** reporta los ingresos **individuales** tomados en la encuesta. \n",
    "\n",
    "Se analiza la información con el programa R."
   ]
  },
  {
   "cell_type": "code",
   "execution_count": null,
   "metadata": {},
   "outputs": [],
   "source": [
    "datos<-read.csv(\"ingresos.csv\")\n",
    "summary(datos)"
   ]
  },
  {
   "cell_type": "markdown",
   "metadata": {},
   "source": [
    "La información de ingreso por hogar se considera como la suma de los individuales.  Los ingresos individuales se consideran trimestrales. La variable **ing_tri** es la que nos interesa trabajar."
   ]
  },
  {
   "cell_type": "code",
   "execution_count": null,
   "metadata": {},
   "outputs": [],
   "source": [
    "names(datos)\n",
    "class(datos$ing_tri)"
   ]
  },
  {
   "cell_type": "markdown",
   "metadata": {},
   "source": [
    "Un primer análisis lo hacemos mediante el comando *\"summary\"* para la variable **ing_tri** que cuenta con 334337 datos."
   ]
  },
  {
   "cell_type": "code",
   "execution_count": null,
   "metadata": {},
   "outputs": [],
   "source": [
    "print(paste(\"El número total de datos es\", length(datos$ing_tri)))\n",
    "print(\"Estadísticas globales\")\n",
    "summary(datos$ing_tri)"
   ]
  },
  {
   "cell_type": "markdown",
   "metadata": {},
   "source": [
    "Para representar la información anterior para un mejor análisis, la literatura recomienda visualizar usando métodos gráficos. Por ejemplo, un histograma de frecuencias."
   ]
  },
  {
   "cell_type": "code",
   "execution_count": null,
   "metadata": {},
   "outputs": [],
   "source": [
    "hist(datos$ing_tri)"
   ]
  },
  {
   "cell_type": "markdown",
   "metadata": {},
   "source": [
    "O podemos usar los diagramas de caja y bigote, llamados **Boxplot**"
   ]
  },
  {
   "cell_type": "code",
   "execution_count": null,
   "metadata": {},
   "outputs": [],
   "source": [
    "boxplot(datos$ing_tri)"
   ]
  },
  {
   "cell_type": "markdown",
   "metadata": {},
   "source": [
    "Para este grupo de datos la visualización gráfica no aporta al análisis. Y esto se debe a que aparecen muchos valores atípicos. Como una segunda idea para entender con mayor profundidad los datos, seguimos la idea de excluir del análisis a los **valores atípicos** o **outliers**, y procedemos siguiendo la referencia de tomar los valores atípicos como valores que exceden el 1.5 del rango intercuartil a partir del tercer cuartil. Creando un nuevo conjunto de datos llamados **datos_sin_outliers**."
   ]
  },
  {
   "cell_type": "code",
   "execution_count": null,
   "metadata": {},
   "outputs": [],
   "source": [
    "limite<-8950+1.5*IQR(datos$ing_tri)\n",
    "print(paste(\"Encontramos el límite superior en \",limite))\n",
    "outliers<-datos$ing_tri[datos$ing_tri>limite]\n",
    "print(\"Los primeros aoutliers fuera de rango son \") \n",
    "head(outliers)\n",
    "datos_sin_outliers<-datos$ing_tri[datos$ing_tri<limite]"
   ]
  },
  {
   "cell_type": "markdown",
   "metadata": {},
   "source": [
    "Haciendo un análisis para los **datos_sin_outliers**"
   ]
  },
  {
   "cell_type": "code",
   "execution_count": null,
   "metadata": {},
   "outputs": [],
   "source": [
    "summary(datos_sin_outliers)"
   ]
  },
  {
   "cell_type": "markdown",
   "metadata": {},
   "source": [
    "Visualizando la información tenemos"
   ]
  },
  {
   "cell_type": "code",
   "execution_count": null,
   "metadata": {},
   "outputs": [],
   "source": [
    "hist(datos_sin_outliers)"
   ]
  },
  {
   "cell_type": "code",
   "execution_count": null,
   "metadata": {},
   "outputs": [],
   "source": [
    "boxplot(datos_sin_outliers)"
   ]
  },
  {
   "cell_type": "markdown",
   "metadata": {},
   "source": [
    "Como siguen apareciendo datos atípicos repetimos el proceso 9 veces hasta no encontrar valores atípicos en la información que resta. Mostramos histogramas y boxplot. "
   ]
  },
  {
   "cell_type": "code",
   "execution_count": null,
   "metadata": {},
   "outputs": [],
   "source": [
    "limite1<-6456.5+1.5*IQR(datos_sin_outliers)\n",
    "#limite1\n",
    "outliers1<-datos_sin_outliers[datos_sin_outliers>limite1]\n",
    "#outliers1\n",
    "datos_sin_outliers1<-datos_sin_outliers[datos_sin_outliers<limite1]\n",
    "\n",
    "summary(datos_sin_outliers1)\n",
    "hist(datos_sin_outliers1)\n",
    "boxplot(datos_sin_outliers1)\n",
    "\n",
    "\n",
    "limite2<-6456.5+1.5*IQR(datos_sin_outliers1)\n",
    "#limite2\n",
    "outliers2<-datos_sin_outliers1[datos_sin_outliers1>limite2]\n",
    "#outliers2\n",
    "datos_sin_outliers2<-datos_sin_outliers1[datos_sin_outliers1<limite2]\n",
    "\n",
    "summary(datos_sin_outliers2)\n",
    "hist(datos_sin_outliers2)\n",
    "boxplot(datos_sin_outliers2)\n",
    "\n",
    "limite3<-4348.4+1.5*IQR(datos_sin_outliers2)\n",
    "#limite3\n",
    "outliers3<-datos_sin_outliers2[datos_sin_outliers2>limite3]\n",
    "#outliers3\n",
    "datos_sin_outliers3<-datos_sin_outliers2[datos_sin_outliers2<limite3]\n",
    "\n",
    "summary(datos_sin_outliers3)\n",
    "hist(datos_sin_outliers3)\n",
    "boxplot(datos_sin_outliers3)\n",
    "\n",
    "\n",
    "limite4<-3196.7+1.5*IQR(datos_sin_outliers3)\n",
    "#limite4\n",
    "outliers4<-datos_sin_outliers3[datos_sin_outliers3>limite4]\n",
    "#outliers4\n",
    "datos_sin_outliers4<-datos_sin_outliers3[datos_sin_outliers3<limite4]\n",
    "\n",
    "summary(datos_sin_outliers4)\n",
    "hist(datos_sin_outliers4)\n",
    "boxplot(datos_sin_outliers4)\n",
    "\n",
    "limite5<-2459+1.5*IQR(datos_sin_outliers4)\n",
    "#limite5\n",
    "outliers5<-datos_sin_outliers4[datos_sin_outliers4>limite5]\n",
    "#outliers5\n",
    "datos_sin_outliers5<-datos_sin_outliers4[datos_sin_outliers4<limite5]\n",
    "\n",
    "summary(datos_sin_outliers5)\n",
    "hist(datos_sin_outliers5)\n",
    "boxplot(datos_sin_outliers5)\n",
    "\n",
    "limite6<-2459+1.5*IQR(datos_sin_outliers5)\n",
    "#limite6\n",
    "outliers6<-datos_sin_outliers5[datos_sin_outliers5>limite6]\n",
    "#outliers6\n",
    "datos_sin_outliers6<-datos_sin_outliers5[datos_sin_outliers5<limite6]\n",
    "\n",
    "summary(datos_sin_outliers6)\n",
    "hist(datos_sin_outliers6)\n",
    "boxplot(datos_sin_outliers6)\n",
    "\n",
    "\n",
    "limite7<-1868.8+1.5*IQR(datos_sin_outliers6)\n",
    "#limite7\n",
    "outliers7<-datos_sin_outliers6[datos_sin_outliers6>limite7]\n",
    "#outliers7\n",
    "datos_sin_outliers7<-datos_sin_outliers6[datos_sin_outliers6<limite7]\n",
    "\n",
    "summary(datos_sin_outliers7)\n",
    "hist(datos_sin_outliers7)\n",
    "boxplot(datos_sin_outliers7)\n",
    "\n",
    "\n",
    "limite8<-1730.4+1.5*IQR(datos_sin_outliers7)\n",
    "#limite8\n",
    "outliers8<-datos_sin_outliers7[datos_sin_outliers7>limite8]\n",
    "#outliers8\n",
    "datos_sin_outliers8<-datos_sin_outliers7[datos_sin_outliers7<limite8]\n",
    "\n",
    "summary(datos_sin_outliers8)\n",
    "hist(datos_sin_outliers8)\n",
    "boxplot(datos_sin_outliers8)\n",
    "\n",
    "limite9<-1711.5+1.5*IQR(datos_sin_outliers8)\n",
    "#limite9\n",
    "outliers9<-datos_sin_outliers8[datos_sin_outliers8>limite9]\n",
    "#outliers9\n",
    "datos_sin_outliers9<-datos_sin_outliers8[datos_sin_outliers8<limite9]\n",
    "\n",
    "hist(datos_sin_outliers9)\n",
    "boxplot(datos_sin_outliers9)\n",
    "summary(datos_sin_outliers9)"
   ]
  },
  {
   "cell_type": "markdown",
   "metadata": {},
   "source": [
    "De esta forma, justificamos que  es mejor iniciar un análisis y presentación de los datos originales mendiante percentiles."
   ]
  },
  {
   "cell_type": "code",
   "execution_count": null,
   "metadata": {},
   "outputs": [],
   "source": [
    "quantile(datos$ing_tri,c(0,.1,.2,.3,.4,.5,.6,.7,.8,.9,1) , type = 5)\n"
   ]
  },
  {
   "cell_type": "markdown",
   "metadata": {},
   "source": [
    "Puede ser interesante observar el comportamiento en cada Decil. Esto lo hacemos de la siguiente forma."
   ]
  },
  {
   "cell_type": "code",
   "execution_count": null,
   "metadata": {},
   "outputs": [],
   "source": [
    "decil1<-subset(datos, datos$ing_tri<=293.47)\n",
    "paste(\"La suma de todos los ingresos en este Decil es \", sum(decil1$ing_tri))\n",
    "paste(\"El promedio de los valores en este decil es \",mean(decil1$ing_tri))\n",
    "paste(\"La cantidad de valores en este decil es \",length(decil1$ing_tri))\n",
    "paste(\"Cantidad de datos perdidos (missing data)\",sum(is.na(decil1$ing_tri)))"
   ]
  },
  {
   "cell_type": "markdown",
   "metadata": {},
   "source": [
    "De manera visual"
   ]
  },
  {
   "cell_type": "code",
   "execution_count": null,
   "metadata": {},
   "outputs": [],
   "source": [
    "hist(decil1$ing_tri)\n",
    "boxplot(decil1$ing_tri)"
   ]
  },
  {
   "cell_type": "markdown",
   "metadata": {},
   "source": [
    "Análisis de cada decil."
   ]
  },
  {
   "cell_type": "code",
   "execution_count": null,
   "metadata": {},
   "outputs": [],
   "source": [
    "decil1<-subset(datos, datos$ing_tri<=293.47)\n",
    "hist(decil1$ing_tri)\n",
    "sum(decil1$ing_tri)\n",
    "mean(decil1$ing_tri)\n",
    "length(decil1$ing_tri)\n",
    "sum(is.na(decil1$ing_tri))\n",
    "\n",
    "decil2<-subset(datos, 293.47<datos$ing_tri & datos$ing_tri<=586.95)\n",
    "hist(decil2$ing_tri)\n",
    "boxplot(decil2$ing_tri)\n",
    "mean(decil2$ing_tri)\n",
    "length(decil2$ing_tri)\n",
    "sum(is.na(decil2$ing_tri))\n",
    "\n",
    "decil3<-subset(datos, 586.95<datos$ing_tri & datos$ing_tri<=983.6)\n",
    "hist(decil3$ing_tri)\n",
    "boxplot(decil3$ing_tri)\n",
    "mean(decil3$ing_tri)\n",
    "length(decil3$ing_tri)\n",
    "sum(is.na(decil3$ing_tri))\n",
    "\n",
    "decil4<-subset(datos, 983.6<datos$ing_tri & datos$ing_tri<=1467.39)\n",
    "hist(decil4$ing_tri)\n",
    "boxplot(decil4$ing_tri)\n",
    "mean(decil4$ing_tri)\n",
    "length(decil4$ing_tri)\n",
    "sum(is.na(decil4$ing_tri))\n",
    "\n",
    "decil5<-subset(datos, 1467.39<datos$ing_tri & datos$ing_tri<=2152.17)\n",
    "hist(decil5$ing_tri)\n",
    "boxplot(decil5$ing_tri)\n",
    "mean(decil5$ing_tri)\n",
    "length(decil5$ing_tri)\n",
    "sum(is.na(decil5$ing_tri))\n",
    "\n",
    "decil6<-subset(datos, 2152.17<datos$ing_tri & datos$ing_tri<=3717.39)\n",
    "hist(decil6$ing_tri)\n",
    "boxplot(decil6$ing_tri)\n",
    "mean(decil6$ing_tri)\n",
    "length(decil6$ing_tri)\n",
    "sum(is.na(decil6$ing_tri))\n",
    "\n",
    "decil7<-subset(datos, 3717.39<datos$ing_tri & datos$ing_tri<=7043.47)\n",
    "hist(decil7$ing_tri)\n",
    "boxplot(decil7$ing_tri)\n",
    "mean(decil7$ing_tri)\n",
    "length(decil7$ing_tri)\n",
    "sum(is.na(decil7$ing_tri))\n",
    "\n",
    "decil8<-subset(datos, 7043.47<datos$ing_tri & datos$ing_tri<=11739.13)\n",
    "hist(decil8$ing_tri)\n",
    "boxplot(decil8$ing_tri)\n",
    "mean(decil8$ing_tri)\n",
    "length(decil8$ing_tri)\n",
    "sum(is.na(decil8$ing_tri))\n",
    "\n",
    "decil9<-subset(datos, 11739.13<datos$ing_tri & datos$ing_tri<=19024.62)\n",
    "hist(decil9$ing_tri)\n",
    "boxplot(decil9$ing_tri)\n",
    "mean(decil9$ing_tri)\n",
    "length(decil9$ing_tri)\n",
    "sum(is.na(decil9$ing_tri))\n",
    "\n",
    "decil10<-subset(datos, 19024.62<datos$ing_tri & datos$ing_tri<=34667119.55)\n",
    "hist(decil10$ing_tri)\n",
    "boxplot(decil10$ing_tri)\n",
    "mean(decil10$ing_tri)\n",
    "length(decil10$ing_tri)\n",
    "sum(is.na(decil10$ing_tri))\n",
    "\n"
   ]
  },
  {
   "cell_type": "markdown",
   "metadata": {},
   "source": [
    "Otros datos para comparar con el reporte dado por la ENIGH 2016"
   ]
  },
  {
   "cell_type": "code",
   "execution_count": null,
   "metadata": {},
   "outputs": [],
   "source": [
    "#salario minimo 2017\n",
    "salmin<-80.04\n",
    "\n",
    "# tres meses de salario minimo\n",
    "salmin*90\n",
    "\n",
    "#factor entre percentil 100 y percentil 10\n",
    "34667119.55/293.47\n",
    "\n",
    "\n",
    "mean(decil1$ing_tri)\n",
    "mean(decil2$ing_tri)\n",
    "mean(decil3$ing_tri)\n",
    "mean(decil4$ing_tri)\n",
    "mean(decil5$ing_tri)\n",
    "\n",
    "\n",
    "sum(decil1$ing_tri)\n",
    "sum(decil2$ing_tri)\n",
    "sum(decil3$ing_tri)\n",
    "sum(decil4$ing_tri)\n",
    "sum(decil5$ing_tri)"
   ]
  },
  {
   "cell_type": "code",
   "execution_count": null,
   "metadata": {},
   "outputs": [],
   "source": []
  }
 ],
 "metadata": {
  "kernelspec": {
   "display_name": "R",
   "language": "R",
   "name": "ir"
  },
  "language_info": {
   "codemirror_mode": "r",
   "file_extension": ".r",
   "mimetype": "text/x-r-source",
   "name": "R",
   "pygments_lexer": "r",
   "version": "3.5.1"
  }
 },
 "nbformat": 4,
 "nbformat_minor": 2
}
